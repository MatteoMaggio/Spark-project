{
 "cells": [
  {
   "cell_type": "markdown",
   "metadata": {
    "slideshow": {
     "slide_type": "slide"
    }
   },
   "source": [
    "# Introduction to Linear Regression"
   ]
  },
  {
   "cell_type": "markdown",
   "metadata": {
    "slideshow": {
     "slide_type": "slide"
    }
   },
   "source": [
    "## Overview\n",
    "\n",
    "* What is linear regression?\n",
    "    * Model goals and mathematical form\n",
    "* How does linear regression learn from data?\n",
    "    * Error and evaluation, model assumptions\n",
    "* Interpreting linear regression models\n",
    "    * Weights and biases\n",
    "* Performing linear regression in `sklearn`"
   ]
  },
  {
   "cell_type": "markdown",
   "metadata": {
    "slideshow": {
     "slide_type": "notes"
    }
   },
   "source": [
    "In this learning unit, we'll take a hands-on approach to linear regression.\n",
    "\n",
    "We'll cover the basic technical details of the model and what it is used for. You'll see what it takes to fit (or train, or learn, depending on your preferred term for it!) a linear regression model and how such models are evaluated and interpreted.\n",
    "\n",
    "Then we'll go through some practical examples using sklearn."
   ]
  },
  {
   "cell_type": "markdown",
   "metadata": {
    "slideshow": {
     "slide_type": "slide"
    }
   },
   "source": [
    "## What is linear regression?\n",
    "\n",
    "* A supervised learning algorithm\n",
    "* A few hundred years old [(With multiple \"inventors\"...)](https://priceonomics.com/the-discovery-of-statistical-regression/)\n",
    "* Maps a vector of $d$ input variables $[x_0, x_1, \\dots, x_d]$ to a single, continuous, output variable $y$\n",
    "* Fast, robust, explainable"
   ]
  },
  {
   "cell_type": "markdown",
   "metadata": {
    "slideshow": {
     "slide_type": "notes"
    }
   },
   "source": [
    "Linear regression is a supervised learning algorithm, meaning that you must have training data available beforehand.\n",
    "\n",
    "This training data consists of inputs and their known outputs. For example, if you want to use humidity and wind speed to predict air temperature, you will need multiple examples of all three. This would give you an input vector [humidity, wind speed] that maps to a single value of air temperature.\n",
    "\n",
    "Here, we use \"variables\" to refer to the individual items, but in machine learning these are generally referred to as \"features\".\n",
    "\n",
    "Compared to more modern techniques, it's very fast to train and get new predictions from. You don't need millions of data points. It can handle a wide variety of input data (though this may need to be regularised, normalised or standardised first) and comes with few restrictions. And the final model has some properties which allow us to construct understandable explanations for the relationship between the model inputs and outputs."
   ]
  },
  {
   "cell_type": "markdown",
   "metadata": {
    "slideshow": {
     "slide_type": "slide"
    }
   },
   "source": [
    "## Linear regression: goals"
   ]
  },
  {
   "cell_type": "markdown",
   "metadata": {
    "slideshow": {
     "slide_type": "slide"
    }
   },
   "source": [
    "* Use a line to model relationship between\n",
    "    * input feature (e.g. weight)\n",
    "    * output variable (e.g. volume)\n",
    "* Lots of possible lines!\n",
    "    * Need to find the best line\n",
    "<img src=\"data:image/png;base64,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\">"
   ]
  },
  {
   "cell_type": "markdown",
   "metadata": {
    "slideshow": {
     "slide_type": "notes"
    }
   },
   "source": [
    "The general goal of linear regression is, given your training data, find some line which best describes the data.\n",
    "\n",
    "There are many possible lines, and you can see three possible solutions on the right here.\n",
    "\n",
    "But we want the best one - that is the line which has the least error when the predictions it makes are compared to the expected predictions, based on the training data.\n",
    "\n",
    "How do we find that line? Before we can do that, we need to understand the mathematical form of linear regression."
   ]
  },
  {
   "cell_type": "markdown",
   "metadata": {
    "slideshow": {
     "slide_type": "slide"
    }
   },
   "source": [
    "## Linear regression: form\n",
    "\n",
    "$$y = wx + b$$\n",
    "\n",
    "* $y$ : value of output variable (continuos)\n",
    "* $x$ : value of input feature\n",
    "* $w$ : weight/importance of $x$\n",
    "* $b$ : bias term"
   ]
  },
  {
   "cell_type": "markdown",
   "metadata": {
    "slideshow": {
     "slide_type": "notes"
    }
   },
   "source": [
    "The simplest linear model uses one number to approximately predict another.\n",
    "\n",
    "Because there is noise in the relationship between x and y, the model multiplies x by some value (w) then adds a constant (b).\n",
    "\n",
    "This is exactly the equation of a straight line. The weight determines the slope of the line, the bias determines the y-intercept of the line.\n",
    "\n",
    "So the weight determines how much the value of x changes, relative to y. And the bias (or error term, in some literature) is essentially a measure of the noise between x and y.\n",
    "\n",
    "But where do the values for w and b come from?"
   ]
  },
  {
   "cell_type": "markdown",
   "metadata": {
    "slideshow": {
     "slide_type": "slide"
    }
   },
   "source": [
    "## Linear regression: form\n",
    "\n",
    "* $x$ and $y$ are *variables* of our data\n",
    "* $w$ and $b$ are *parameters* of the linear model\n",
    "* We provide the variables, the model learns the parameters\n",
    "* $x$ can change, but parameters are fixed once learned"
   ]
  },
  {
   "cell_type": "markdown",
   "metadata": {
    "slideshow": {
     "slide_type": "notes"
    }
   },
   "source": [
    "It's important to distinguish between the components of the linear regression model.\n",
    "\n",
    "x and y are variables (or features) in our training data. This is used by the model to learn its parameters.\n",
    "\n",
    "Then, if we have a new x and want to predict its associated y, then we can use the trained model to predict this.\n",
    "\n",
    "y must be a continuous variable. x should be too, but it is possible to convert nominal/discrete values for use in a linear regression model."
   ]
  },
  {
   "cell_type": "markdown",
   "metadata": {
    "slideshow": {
     "slide_type": "slide"
    }
   },
   "source": [
    "## Linear regression: error\n",
    "\n",
    "* Model needs to learn parameters\n",
    "* Best model has parameters which most closely predict $y$ given $x$\n",
    "    * This is minimising model error\n",
    "* Standard measure is the sum of squared errors $$\\sum_{i=1}^{n}(y_i - \\widehat{y}_i)^2 \\quad$$\n"
   ]
  },
  {
   "cell_type": "markdown",
   "metadata": {
    "slideshow": {
     "slide_type": "notes"
    }
   },
   "source": [
    "In order to train the model and learn the parameters, we could try every single possible combination of values for $w$ and $b$.\n",
    "\n",
    "Imagine that was possible. We then need a way to determine when the best parameters have been found and select the model that has those parameters.\n",
    "\n",
    "Intuitively, this should be the model whose parameters allow it to most closely predict the output values.\n",
    "\n",
    "The standard error measure is the sum of squared errors. This simply adds up all the squared differences between the true value ($y$) and model prediction ($\\widehat{y}$)."
   ]
  },
  {
   "cell_type": "markdown",
   "metadata": {
    "slideshow": {
     "slide_type": "slide"
    }
   },
   "source": [
    "## Linear regression: evaluation\n",
    "\n",
    "* R² score: evaluates the linear relation between model predictions $\\hat{y} \\in \\hat{Y}$ and ground truth $y \\in Y$ \n",
    "    * Mean squared error (MSE) normalised by average deviation from the ground truth mean \n",
    "    * Equal to 1.0 when a perfect relation\n",
    "    * Always predicting the mean of all ground truth values would score 0\n",
    "    \n",
    "*  R² = $1 - \\frac{\\sum_{i=1}^{n} (y_i - \\hat{y}_i)^2}{\\sum_{i=1}^{n} (y_i - \\bar{y})^2}$\n",
    "    * Numerator is MSE\n",
    "    * $\\bar{y}$ is the mean of the ground truth values"
   ]
  },
  {
   "cell_type": "markdown",
   "metadata": {
    "slideshow": {
     "slide_type": "notes"
    }
   },
   "source": [
    "We want to minimise error during model training, to find the best model parameters.\n",
    "\n",
    "But a performance metric like R2 will describe how well that model represents the training data. This is useful for when we have two different linear models (perhaps using different features) - both have minimised error to find the best parameters, but we want to compare the two models to each other."
   ]
  },
  {
   "cell_type": "markdown",
   "metadata": {
    "slideshow": {
     "slide_type": "slide"
    }
   },
   "source": [
    "## Linear regression: interpretation\n",
    "\n",
    "Learned parameters are informative:\n",
    "\n",
    "$y$ = $w$$x$+$b$\n",
    "\n",
    "* $w$ is the amount we expect $y$ to change, given a single unit change in $x$\n",
    "* Larger $w$ means $x$ is more important\n",
    "* $b$ is the expected mean value of $y$ when all input features equal 0"
   ]
  },
  {
   "cell_type": "markdown",
   "metadata": {
    "slideshow": {
     "slide_type": "notes"
    }
   },
   "source": [
    "In the simple model we have been using so far, where there is one feature in x being used to predict y, the weight and bias parameters learned by the model can be interpreted in an informative way. The weight for x expresses the average increase/decrease expected in y if x increases by one unit (e.g. 1kg if x measures mass).\n",
    "\n",
    "This generalises to more complex models where the input is a vector containing multiple features. Each component will have its own associated weight.\n",
    "\n",
    "The value of the bias term also has some meaning, but this isn't generally very useful to us. It's simply the value that y will be if x is 0!\n",
    "\n",
    "Before we look at how this line is found, let's go over some of the main assumptions the linear regression model makes about the data and the modelling process."
   ]
  },
  {
   "cell_type": "markdown",
   "metadata": {
    "slideshow": {
     "slide_type": "slide"
    }
   },
   "source": [
    "## Linear regression: linearity"
   ]
  },
  {
   "cell_type": "code",
   "execution_count": 1,
   "metadata": {
    "slideshow": {
     "slide_type": "slide"
    }
   },
   "outputs": [
    {
     "name": "stderr",
     "output_type": "stream",
     "text": [
      "/Users/matteomazzeri/anaconda3/lib/python3.7/site-packages/pandas/compat/_optional.py:138: UserWarning: Pandas requires version '2.7.0' or newer of 'numexpr' (version '2.6.9' currently installed).\n",
      "  warnings.warn(msg, UserWarning)\n"
     ]
    },
    {
     "data": {
      "image/png": "[encoded data removed]",
      "text/plain": [
       "<Figure size 520x432 with 1 Axes>"
      ]
     },
     "metadata": {
      "needs_background": "light"
     },
     "output_type": "display_data"
    }
   ],
   "source": [
    "import pandas as pd\n",
    "import seaborn as sns\n",
    "\n",
    "data = pd.read_csv('data/data.csv')\n",
    "\n",
    "sns.relplot(data=data, x='x_val', y='y_val', hue='dataset', height=6);"
   ]
  },
  {
   "cell_type": "markdown",
   "metadata": {
    "slideshow": {
     "slide_type": "notes"
    }
   },
   "source": [
    "First, the output variable should be a linear combination of each individual input variable, when all other variables are held fixed. So, that point doesn't depend on any other variables having a particular value.\n",
    "\n",
    "However, this is really only a limitation on the parameters the model will learn and not your actual input data. We will go into more detail, later on, on what it means to learn parameters.\n",
    "\n",
    "In practice, you can test this assumption by visualising x against y and seeing if there are any non-linear patterns in the scatter plot. If your data is non-linear, you should probably consider using a non-linear model, although it is often possible to transform features to make them linear."
   ]
  },
  {
   "cell_type": "markdown",
   "metadata": {
    "slideshow": {
     "slide_type": "slide"
    }
   },
   "source": [
    "## Linear regression: independence"
   ]
  },
  {
   "cell_type": "code",
   "execution_count": 2,
   "metadata": {
    "slideshow": {
     "slide_type": "slide"
    }
   },
   "outputs": [
    {
     "data": {
      "text/html": [
       "<div>\n",
       "<style scoped>\n",
       "    .dataframe tbody tr th:only-of-type {\n",
       "        vertical-align: middle;\n",
       "    }\n",
       "\n",
       "    .dataframe tbody tr th {\n",
       "        vertical-align: top;\n",
       "    }\n",
       "\n",
       "    .dataframe thead th {\n",
       "        text-align: right;\n",
       "    }\n",
       "</style>\n",
       "<table border=\"1\" class=\"dataframe\">\n",
       "  <thead>\n",
       "    <tr style=\"text-align: right;\">\n",
       "      <th></th>\n",
       "      <th>0</th>\n",
       "      <th>1</th>\n",
       "      <th>2</th>\n",
       "      <th>3</th>\n",
       "      <th>4</th>\n",
       "    </tr>\n",
       "  </thead>\n",
       "  <tbody>\n",
       "    <tr>\n",
       "      <th>0</th>\n",
       "      <td>1.000000</td>\n",
       "      <td>0.173737</td>\n",
       "      <td>0.185085</td>\n",
       "      <td>0.335427</td>\n",
       "      <td>0.260061</td>\n",
       "    </tr>\n",
       "    <tr>\n",
       "      <th>1</th>\n",
       "      <td>0.173737</td>\n",
       "      <td>1.000000</td>\n",
       "      <td>0.088161</td>\n",
       "      <td>0.241013</td>\n",
       "      <td>0.035277</td>\n",
       "    </tr>\n",
       "    <tr>\n",
       "      <th>2</th>\n",
       "      <td>0.185085</td>\n",
       "      <td>0.088161</td>\n",
       "      <td>1.000000</td>\n",
       "      <td>0.395415</td>\n",
       "      <td>0.249777</td>\n",
       "    </tr>\n",
       "    <tr>\n",
       "      <th>3</th>\n",
       "      <td>0.335427</td>\n",
       "      <td>0.241013</td>\n",
       "      <td>0.395415</td>\n",
       "      <td>1.000000</td>\n",
       "      <td>0.242470</td>\n",
       "    </tr>\n",
       "    <tr>\n",
       "      <th>4</th>\n",
       "      <td>0.260061</td>\n",
       "      <td>0.035277</td>\n",
       "      <td>0.249777</td>\n",
       "      <td>0.242470</td>\n",
       "      <td>1.000000</td>\n",
       "    </tr>\n",
       "  </tbody>\n",
       "</table>\n",
       "</div>"
      ],
      "text/plain": [
       "          0         1         2         3         4\n",
       "0  1.000000  0.173737  0.185085  0.335427  0.260061\n",
       "1  0.173737  1.000000  0.088161  0.241013  0.035277\n",
       "2  0.185085  0.088161  1.000000  0.395415  0.249777\n",
       "3  0.335427  0.241013  0.395415  1.000000  0.242470\n",
       "4  0.260061  0.035277  0.249777  0.242470  1.000000"
      ]
     },
     "execution_count": 2,
     "metadata": {},
     "output_type": "execute_result"
    }
   ],
   "source": [
    "from sklearn import datasets\n",
    "\n",
    "diabetes = datasets.load_diabetes()\n",
    "X = pd.DataFrame(diabetes['data'])\n",
    "# Look at first five features only\n",
    "X[[0,1,2,3,4]].corr()"
   ]
  },
  {
   "cell_type": "markdown",
   "metadata": {
    "slideshow": {
     "slide_type": "notes"
    }
   },
   "source": [
    "Second, there should be no relationship between the individual features/input variables. That is, they must not be colinear - you should not be able to predict one input variable using one (or more) of the others.\n",
    "\n",
    "One obvious example would be if one feature is always exactly twice the value of another. In a model with two features which are perfectly colinear, the weights of each would be the exactly half of a model which only one feature. This makes it difficult to perform valid significance tests or interpret the model later on.\n",
    "\n",
    "In practice, you can detect this by using a correlation matrix (see the `pands.DataFrame.corr()` method) and drop highly correlated features.\n",
    "\n",
    "In the examples we are looking at here, we only have a single input feature so colinearity is not really an issue!"
   ]
  },
  {
   "cell_type": "markdown",
   "metadata": {
    "slideshow": {
     "slide_type": "slide"
    }
   },
   "source": [
    "## Linear regression: independence"
   ]
  },
  {
   "cell_type": "code",
   "execution_count": 3,
   "metadata": {
    "slideshow": {
     "slide_type": "slide"
    }
   },
   "outputs": [
    {
     "data": {
      "image/png": "[encoded data removed]",
      "text/plain": [
       "<Figure size 640x480 with 2 Axes>"
      ]
     },
     "metadata": {},
     "output_type": "display_data"
    }
   ],
   "source": [
    "import seaborn as sns\n",
    "\n",
    "sns.heatmap(X.corr(), cmap='coolwarm', square=True);\n",
    "\n",
    "\n"
   ]
  },
  {
   "cell_type": "markdown",
   "metadata": {
    "slideshow": {
     "slide_type": "notes"
    }
   },
   "source": [
    "It's usually easier to visualise this as a heatmap, using a divergent colour map to show the different points at -1, 0 and +1.\n",
    "\n",
    "This is especially useful if you have a lot of features to look at.\n",
    "\n",
    "The diagonal is all red, because features obviously perfectly correlate with themselves."
   ]
  },
  {
   "cell_type": "markdown",
   "metadata": {
    "slideshow": {
     "slide_type": "slide"
    }
   },
   "source": [
    "## Linear regression: constant variance"
   ]
  },
  {
   "cell_type": "code",
   "execution_count": 4,
   "metadata": {
    "slideshow": {
     "slide_type": "slide"
    }
   },
   "outputs": [
    {
     "data": {
      "image/png": "[encoded data removed]",
      "text/plain": [
       "<Figure size 640x480 with 1 Axes>"
      ]
     },
     "metadata": {},
     "output_type": "display_data"
    }
   ],
   "source": [
    "import numpy as np\n",
    "\n",
    "y_pred = np.random.normal(0, 50, 50)\n",
    "y_true = np.random.normal(0, 1, 50)\n",
    "\n",
    "residuals = y_pred - y_true\n",
    "\n",
    "sns.scatterplot(x=y_pred, y=residuals);"
   ]
  },
  {
   "cell_type": "markdown",
   "metadata": {
    "slideshow": {
     "slide_type": "notes"
    }
   },
   "source": [
    "Third, all the values of the output variable must have the same degree of variance in their error, independent of the input variables and their mean should be around 0. This is known as homoscedasticity. The error, also called the residuals, of the input variables is essentially the difference between the predicted value and the expected value.\n",
    "\n",
    "That is, the variable you want to predict must have an error range which is the same no matter what the input was.\n",
    "\n",
    "For example, say your model aims to predict the value of plots of land. You use a linear regression model, which takes in various features as input.\n",
    "\n",
    "If your model predicts a value of £1,000,000 and this has a standard deviation of £100,000 compared to the true value, then this doesn't really work as a constant when the predicted value is £50,000 - the same standard deviation is too large compared to the prediction.\n",
    "\n",
    "In practice, this means you need to carefully consider the reality of what you are trying to predict - does it make sense for the predicted variable to always have the same standard deviation, no matter what the input represents?\n",
    "\n",
    "If not, then there are some linear models which relax this assumption, or you could transform the output variable in an appropriate manner (e.g. log or Box transform).\n",
    "\n",
    "You can test for constant variance by visualising the residuals of your model against the predictions of the model. They should have a mean value around zero and seem to be randomly scattered, with no structure to them.\n",
    "\n",
    "The example given here uses random data but the process is the same in practice. The only difference will be that y_true comes from your dataset and y_pred comes from your model."
   ]
  },
  {
   "cell_type": "markdown",
   "metadata": {
    "slideshow": {
     "slide_type": "slide"
    }
   },
   "source": [
    "## Linear regression: normality\n",
    "\n",
    "Checking the normality assumption of the residuals"
   ]
  },
  {
   "cell_type": "code",
   "execution_count": 7,
   "metadata": {
    "slideshow": {
     "slide_type": "slide"
    }
   },
   "outputs": [
    {
     "data": {
      "text/plain": [
       "(ShapiroResult(statistic=0.9750575423240662, pvalue=0.054519347846508026),\n",
       " ShapiroResult(statistic=0.9560552835464478, pvalue=0.002125362167134881),\n",
       " ShapiroResult(statistic=0.941590428352356, pvalue=0.00024136250431183726),\n",
       " ShapiroResult(statistic=0.9739300608634949, pvalue=0.33191508054733276))"
      ]
     },
     "execution_count": 7,
     "metadata": {},
     "output_type": "execute_result"
    }
   ],
   "source": [
    "from scipy.stats import shapiro\n",
    "\n",
    "x1 = np.random.normal(1, 10, 100)\n",
    "x2 = np.random.poisson(5, 100)\n",
    "x3 = np.random.uniform(size=100)\n",
    "\n",
    "y_pred = np.random.normal(0, 50, 50)\n",
    "y_true = np.random.normal(0, 1, 50)\n",
    "residuals = y_pred - y_true\n",
    "\n",
    "shapiro(x1), shapiro(x2), shapiro(x3), shapiro(residuals)\n",
    "\n",
    "# Recall:\n",
    "# alpha = 0.5\n",
    "# p <= alpha: reject H0, not normal\n",
    "# p > alpha: fail to reject H0, normal\n",
    "# In general, we are seeking results with a larger p-value to confirm that our sample was likely drawn from a Gaussian "
   ]
  },
  {
   "cell_type": "markdown",
   "metadata": {
    "slideshow": {
     "slide_type": "notes"
    }
   },
   "source": [
    "Finally, the distribution of residuals should also be normal.\n",
    "\n",
    "You can perform statistical tests for this, such as Shapiro-Wilk's W test or the Kolmogorov-Smirnov test. These test the null hypothesis that a collection of samples were drawn from a population which has a normal distribution. \n",
    "\n",
    "In practice, non-normality of the residuals is really only an issue when you have few examples in your dataset. With enough data (a few hundred) this is overcome.\n",
    "\n",
    "Here you can see the outcome of Shapiro-Wilk's W test. If the distribution is not normal, then the p-value will be less than 0.05."
   ]
  },
  {
   "cell_type": "markdown",
   "metadata": {
    "slideshow": {
     "slide_type": "slide"
    }
   },
   "source": [
    "## Linear regression: assumptions\n",
    "\n",
    "* Linearity\n",
    "    * Relationship of x to y is linear\n",
    "* Independence\n",
    "    * No features in our data are correlated/colinear (assessed this with .corr() and the heatmap)\n",
    "* Constant variance\n",
    "    * Errors of the model predictions (residuals) must have same standard deviation (use a plot of predicted values vs residuals)\n",
    "* Normality\n",
    "    * Errors of the model predictions (residuals) should be normally distributed (use shapiro test)"
   ]
  },
  {
   "cell_type": "markdown",
   "metadata": {
    "slideshow": {
     "slide_type": "notes"
    }
   },
   "source": [
    "A quick summary of the four assumptions."
   ]
  },
  {
   "cell_type": "markdown",
   "metadata": {
    "slideshow": {
     "slide_type": "slide"
    }
   },
   "source": [
    "## Linear regression: naive example\n",
    "\n",
    "Manual training by hand is possible but unlikely to find the best solution quickly!\n",
    "\n",
    "<img src=\"data:image/png;base64,iVBORw0KGgoAAAANSUhEUgAAAtAAAAFoCAYAAAB+JswZAAAABHNCSVQICAgIfAhkiAAAAAlwSFlzAAALEgAACxIB0t1+/AAAADh0RVh0U29mdHdhcmUAbWF0cGxvdGxpYiB2ZXJzaW9uMy4yLjIsIGh0dHA6Ly9tYXRwbG90bGliLm9yZy+WH4yJAAAgAElEQVR4nOzdd3xUVfrH8c+kTRICKfQmnSxFd7Ega2FtIEVYRBFYVLChKKio6CpIFymiq64iKIuLICKiiH1ZFQHFBbEiTX6IkYQWEgIhJCQz9/fHTWYSCCFlMvfOzPf9evFSz9y5eSaYZ56cOec5DsMwDEREREREpFzCrA5ARERERCSQqIAWEREREakAFdAiIiIiIhWgAlpEREREpAJUQIuIiIiIVIAKaBERERGRClABLSIiIiJSASqgRUREREQqQAW0iIiIiEgFqIAWEREREakAFdAiIiIiIhWgAlpEREREpAJUQIuIiIiIVIAKaBERERGRClABLSIiIiJSASqgRUREREQqQAW0iIiIiEgFqIAWEREREakAFdAiIiIiIhWgAlpEREREpAJUQIuIiIiIVIAKaBERERGRClABLSIiIiJSASqgJeSlpaVx8803U7duXWJiYjj//PNZtmxZpe+3d+9eEhIScDgcPPXUUz6MtPrMnj2byy67jIYNG+J0OmnYsCGXX34577zzjtWhicgZKIeZ1q9fT9++fWnSpAkxMTG0atWKO+64g127dlkdmgQhFdAS0jIyMrjkkkt4++23GTFiBM8++yxxcXHccMMNLFiwoFL3HDVqFC6Xy8eRVq8NGzbQvHlzRo8ezZw5c3jwwQfJycmhf//+TJkyxerwROQ0lMNMH3/8MZdccgnbtm1j5MiRPP/88/Tt25fXX3+d888/n9TUVKtDlGBjiISwMWPGGICxcuVKz1hBQYFxwQUXGElJScbRo0crdL93333XCAsLM2bOnGkAxqxZs3wdcqkmTJhg+PrHOT8/3zjnnHOMuLg4o6CgwKf3FhHfUA4zde/e3YiMjDQOHjxYYvzll182AOOZZ56paogiJWgGWmzn7bffxuFw8Morr5T6eIcOHWjdujWGYVT5a73++uu0atWKPn36eMbCw8MZNWoUGRkZfPjhh+W+19GjR7nnnnsYMWIEF1xwQanXvPjiizgcjlNmddPS0qhbty7t2rUjJyenci/GxyIiImjcuDHHjh0jPz/f6nBEAoZymP9z2JEjR4iOjiYxMbHEeKNGjQCoUaOG32OS4KYCWmynb9++NGjQgPnz55/y2Ndff82WLVu49dZbcTgcAOTk5JCenl6uP1lZWZ577d27l9TUVLp06XLK1yka27hxY7njfvTRRykoKOCJJ5447TV33303/fv3Z9KkSaxbtw4At9vNjTfeyNGjR3njjTeIjY0t99f0tYyMDA4ePMjWrVuZPHkyH3/8MZdffjnR0dGWxSQSaJTD/J/Drr76ao4ePcrQoUP54YcfSE1N5ZNPPuHBBx+kXbt2DBo0yO8xSZCzegpcpDSPPvqoARg///xzifHbb7/dCA8PN1JTUz1jRR/9lefPX/7yF8/zvvnmGwMwHn744VO+/rFjxwzAGDx4cLniXb9+vREWFma88cYbhmEYxueff37ajz8zMjKMZs2aGU2bNjUyMjKMyZMnG4Dx/PPPl+trlcZXSzhq167t+V5FREQY119/vXHgwIEq31ck1CiHVUxVc1hubq4xYsQIw+l0lvh+9erVy8jKyqr0fUVOJ6Jaq3ORSrrjjjuYPn068+fPZ/bs2QAcO3aMpUuX0rNnT8/HcgA333wzl1xySbnuW/zjvaKPGZ1O5ynXFc24luejyPz8fO644w6uuuoqBg4cWK4YXn/9df7yl7/Qs2dPvvnmG/r27cvIkSPL9Rry8vI4evRoibGiONPT00uMh4eHn/KRZlnefvttcnNzSU1NZdmyZRw/fpwjR45Qt27dct9DRJTDylIdOSw8PJzGjRtz1VVXce2115KUlMSXX37J888/z6BBg3j33XeJjIwsV3wi5WJ1BS9yOt26dTPq1q1rnDhxwjAMw/jXv/5lAMaKFSt8cn9fzd5MmTLFiI6ONnbu3OkZK2v2psjYsWMNwGjQoIGRnp5e7rgXLFhQ7tmqZs2alfu+pRk0aJDRoEEDIyMjo0r3EQlFymGlq44cNmTIEKNFixbGsWPHSozPmTPHAIyXX3653PGJlIdmoMW2hg8fzoABA1i5ciXXXXcd8+fPp0GDBvTu3bvEddnZ2WRnZ5frnlFRUSQlJQHezSWltTcqGmvcuHGZ99u7dy9PPPEEQ4cOxTAMdu7cWeL5hw4dYufOnTRs2LDEJpYTJ07wySefAOa645SUFGrXrl2u13D11VezatWqEmMLFy7ktddeO2U8JiamXPc8naFDh/LGG2/w9ttvc9ttt1XpXiKhRjmsdL7OYSkpKSxevJiRI0eesv56wIABjBgxgi+++ILbb7+9XPGJlIvVFbzI6Zw4ccKoV6+e0bNnT2Pbtm0GYDzyyCOnXFfZ9YOGYRiNGzc2WrVqdco9Fy5caACe9YCn891335Xr6y5btqzE8x544AEDMGbOnGnUqVPHaNu2rZGdnV3xb9JJ3wNfe/vttz1xikjFKIeVX1Vy2FdffWUAxogRI055bN++fQZgDBo0qNKxiZRGM9BiW5GRkQwbNoynnnqKSZMmAZQ6C1rZ9YMAgwcP5qmnnuK9997ztIFyuVw8//zzJCQk0KtXrxLXb9u2jcjISFq1agVAixYtSj3x6+eff2bixIncfPPN9OnThz//+c+exz766COeeeYZhg4dypgxY2jfvj3XXHMNI0eOrPTBB1Vx7NgxDMMgLi6uxLjL5eKFF14AKHWXv4iUTTnMP5KTkwkPD2fFihVMmzaNhIQEz2OvvvoqwGnb8olUmtUVvEhZfvnlF8PhcJQ68+IL6enpRrNmzYy4uDhj/Pjxxty5c43LLrvMAIxXXnnllOsp55q8060fTEtLM+rWrWu0bdu2xAEH9913nwEYS5YsqdTrqMrszXfffWfUqlXLuPXWW40ZM2YYL7/8sjFx4kQjOTnZAIyhQ4dW6r4iohxWXlX9FO3BBx80AKN58+bGE088YcyZM8e48cYbDYfDYbRq1UqdOMTnVECL7V1xxRUGYCxcuLBa7r9nzx7jxhtvNGrXrm04nU6jU6dOp/3YsypvPi6Xy7jyyisNp9NpfPvttyWuz8vLMzp16mTUqlXL2LVrV4VfQ1XefA4ePGjcfffdxjnnnGMkJiYaERERRu3atY2rrrrKWLRokeF2uyt1XxExKYedWVULaLfbbcybN8/o3LmzUaNGDSMiIsJo1qyZcffdd6sVp1QLh2H44CgkkWrUq1cv1q9fT1paWpU3xYmI+JtymEjw0UmEYms7d+7kk08+4aabbtIbj4gEHOUwkeCkGWixpf/9739s3bqV5557jq1bt7J161aaN29udVgiIuWiHCYS3DQDLbY0Z84cbr31Vo4cOcLixYv1xiMiAUU5TCS4aQZaRERERKQC1AfaDyIiInC73dSqVcvqUETET44cOUJYWBgFBQVWh1Ilyl8ioSdY8ld10hIOP3C73WiiXyS0GIaB2+22OowqU/4SCT3Bkr+qk2ag/aBo5ubw4cMWRyIi/lL8NLRApvwlEnqCJX9VJ81Ai4iIiIhUgApoEREREZEKUAEtIiIiIlIBKqBFRERERCpABbSIiIiISAWogBYRERERqQAV0CIiIiIiFaACWkRERESkAnSQioiEtPTsPFZt2c+ezByaJMbSrX196sQ5rQ5LROSMlL+sEzIz0F999RVXX301jRs3Jjo6mrp163LFFVfw0UcfnXLtqlWr6NKlCzExMdSrV48777xTp3CJBKH07DzGrdjMvDW7eO+Hvcxbs4txKzaTnp1ndWgiImVS/rJWyBTQmZmZJCcnM3v2bD7++GPmzZuH0+mkV69evPHGG57rVq9eTa9evWjatCnvvfceTz31FCtXrqR37946F14kyKzasp/t+47SKD6aNvXiaBQfzfZ9R1m1Zb/VoYmIlEn5y1ohs4Sjd+/e9O7du8RYnz59aNGiBfPmzWPQoEEAPPzww3Ts2JGlS5cSFmb+ftGwYUO6d+/OsmXLGDhwoN9jF5HqsSczB5fbIDoynOt+X8nypn1xuQ1SM49bHZqISJmUv6wVMjPQpYmIiCA+Pp7IyEgAUlNT2bhxIzfddJOneAbo1q0bjRs3Zvny5VaFKiLVoEliLOFhDnLzXcS6jpOb7yI8zEHjxBirQxMRKZPyl7VCroB2u90UFBSQlpbGhAkT2LFjB6NHjwZg8+bNAHTs2PGU55199tmex0UkOHRrX5/kBjVJy8rlSG4BaVm5JDeoSbf29a0OTUSkTMpf1gqZJRxFbrjhBs9Mcq1atXjzzTfp0aMHAIcOHQIgKSnplOclJSXx7bfflnrPhISEMr9mVlYW8fHxVQlbRKpBnTgnU/t1ZNWW/TT5PIbhXVuG3C525S+RwKT8Za2Qm4GeOXMmGzZsYOXKlfTq1YsbbriBJUuWlLjG4XCU+tzTjYtI4KoT52Rw57No3zCewZ3P0puPiAQM5S/rhNwMdMuWLWnZsiVgbiLs06cP99xzDwMHDqR27dqAdya6uIyMjFJnpoEztrg70wyPiIhVlL9ERCou5GagT9a5c2cyMzM5ePAgHTp0ACh1rfNPP/1U6tpoEREREQktIV1AG4bB6tWrSUhIoHbt2jRp0oTzzz+fxYsXl+j5/Omnn5Kamkr//v0tjFZERERE7CBklnAMGTKEZs2acd5551GnTh327t3Lv//9bz777DOef/55IiLMb8WMGTPo3r07gwcPZvjw4aSlpfHII49w4YUXMmDAAItfhYiAjq8VkcCmHBb4QqaA/vOf/8zixYuZO3euZ1f5+eefz8qVK+nTp4/nuiuuuIL333+fCRMm0Lt3b2rWrEm/fv2YOXMm4eHhFr4CEQHv8bXb9x3F5TYID3PwxY6DTO3XUW9AImJ7ymHBIWQK6JEjRzJy5MhyXdujRw9PazsRsZfix9dGR4aTm+/yHF87uPNZVocnIlIm5bDgENJroEUk8Jx8fG10ZLiOrxWRgKEcFhxUQItIQNHxtSISyJTDgoMKaBEJKDq+VkQCmXJYcAiZNdAiEhx0fK2IBDLlsOCgAlpEAk7R8bW52+I5V5tuRCTAKIcFPi3hEBEREQl2aWngclkdRdBQAS0iIiISrNxueP11GDAAFi+2OpqgoQJaREREJBjt3g233w5PPw15efDSS/Dbb1ZHFRS0BlpEREQkmLhcsGgRzJ0LJ054x886C/LzrYsriKiAFhEREQkWO3fC5MmwZYt3LDwcbrsNbrkFIiOtiy2IqIAWERERCXQFBbBgAcyfb/57kT/8ASZMgDZtrIstCKmAFhEREQlkR7Lg5pthxw7PUF6rGjh7DDPHw8Otiy1IqYAWERERCUQnTsArr8CXX8IvOd7xs8/GuKCxuWRDqoUKaBGxVHp2Hqu27GdPZg5NEmN1IpeIBAxL89fPP8OkSbBrF7SONceiouCee2DwYFg00z9xhCgV0CJimfTsPMat2Mz2fUdxuQ3Cwxx8seMgU/t1VBEtIrZmWf7KyzO7ayxaZPZ4BhwuAzp1gscfNzttSLVTAS0illm1ZT/b9x2lUXw00ZHh5Oa72L7vKKu27GdwBY+31Uy2iPiTJfnrhx/MWeeUFO9YTAzOAaPg+ushTMd7+IsKaBGxzJ7MHFxug+jIcK77fSXLm/bF5TZIzTxeoftoJltE/M2v+ev4cXjhBVi6FAzD++TOnWHcOGjUyIevTMpDBbSIWKZJYizhYQ5y813Euo6Tm+8iPMxB48SYCt3HlzNBIiLl4bf89c03Zl/ntDTPc/La1MR5w73Qrx84HL5+aVIOmusXEct0a1+f5AY1ScvK5UhuAWlZuSQ3qEm39vUrdJ+TZ4KiI8MrNRMkIlJe1Z2/Duw9BE8+CXfdVaJ45qKLMC7vCtdeq+LZQpqBFhHL1IlzMrVfR1Zt2U+Tz2MY3rVlpdYu+2omSESkvKozf52dsoXr310OeUe8F9asCQ8+CL17w2szfPxqpKJUQIuIperEORnc+Sxyt8VzbiWXW3RrX58vdhxk+76jVZoJEhGpCF/nr5xjuVz11lyu+OV/1EuIgTAHeS1icJ7VGR59FOrU8fErkMpSAS0iAe90M0EASzakqDOHiNhWUf76fvFKOn3zM6QcolaC+enZPoeTIy2S2XTdvXSLronKZ/tQAS0itlLZdnQnzwSpM4eIWKHCOSwrizqzZnHVxx+T2zqW6BpR5LsNPm18Di9ecC2353zGvLW/8sUv6cpfNqICWkRsw5dFrzpziIi/VTiH7dsLAwZARgZQeCBKUhJr+93CjJyGNIqPplZqBI3io5W/bCZkunB8+umnDBs2jOTkZGJjY2nSpAn9+/fnp59+KnHdZZddhsPhOOXPoEGDLIpcJHQUL3rb1Isr8aZRUerMISL+Vu4clpEBjzwC337nKZ4BnO0uh2XL2NSqkyd/5YTHKH/ZUMjMQL/00kscOnSI0aNH065dO/bv38/MmTO54IILWL16NV26dPFc26ZNGxYuXFji+XW0cF+k2vnqYAJQZw4R8b8z5jDDgE8+gVmzICsLWsea43XrwmOPwaWXAtAkMcuTv5Y37av8ZUMhU0C/8MIL1KtXr8RY9+7dadGiBbNmzWL58uWe8djY2BIFtUiwstvx174setWZQyT4BVQOO3jQ7Ou8Zo3neofLgL/+Fe6/32xTV6h4/ipaCqL8ZS8hU0CfXDwDJCQk0KZNG/bs2WNBRCLWsuMmO18Wvb7q0Soi9hQwOax+HL1/3QgPPw/Z2d6LGzTA+dDjcOGFp9yneP5KzTxO48QY5S+bCZkCujQHDx5k8+bNDB48uMT49u3bSUxM5OjRo7Ro0YKhQ4fyyCOPEBkZaVGkIr5nx012vi56fdGjVUTsKRBy2L0d4ujx7r+I+WZDyQsHDIBRoyA2tsx7acOgfYVsAW0YBsOHD8ftdvPQQw95xi+99FIGDRrEH/7wB7Kzs1mxYgXjx49n06ZNvPPOO6XeKyEhocyvlZWVRXx8vE/jF6kqX6439iUVvf6l/CWBytY57Pwm5K7K4twnH4CcHADzQJQTSTB+PJx3nqUxStWFbAE9ZswYVqxYwYIFC2jXrp1nfMqUKSWuu+aaa6hfvz7Tpk1j3bp1XHLJJf4OVaRaaJOdiAQy2+aw1FSYMgUOb/EUzzgcGK1bwPi5EKMcGwxCpo1dcWPHjmX27Nk8++yzDBs27IzXDx06FID169eX+vjhw4fL/KPZG7Gjbu3rk9ygJmlZudpkF8KUvyRQ2S6Hud3wxhswcCB88413vFkzmD8f2rVX8RxEQm4Gevz48UybNo2ZM2dy7733lus5brcbgLCwkPx9Q4KUNtmJSCCzVQ7LOQZ33AE//OAZcriBoUPhzjshKgq+/9D/cUm1CakCetKkSUyZMoUpU6YwZsyYcj+vqCe0WttJsNF6YxEJZJbnMLcbFi2CtWthe7EOGy1b4pw4Edq3939M4hchU0DPnj2biRMncs0113DVVVfx9ddfex5zOp106tSJtWvXMn36dK677jqaNWvGsWPHePfdd1mwYAEDBgzg4osvtvAViIiIiG3s2gWTJsHPP3sPRAkPh1tugVtvNWedJWiFTAH93nvvAfD+++/z/vvvl3isWbNm7N69m4YNGwLmMo/09HTCwsJITk7m6aefZtSoUX6PWURERGymoAAWLoSXX4b8fKDwQJS2bWHiRPOfEvRCpoBevXr1Ga9p3bo1H3zwQfUHIyIiIoFnxw5z1nn7du9YRATOnrfAzTdDRMiUVSFPf9MiAchux9eKiJRXQOav/Hyzk8aCBeByecfbtzdnnVu2tCw0sYYKaJEAY8fja0VEyiMg89eWLeas8//9H1B4IEqqC+66C4YMMdc9S8hRXzaRAFP8+No29eJoFB/tOb5WRMTOAip/nTgBzz8Pw4Z5imcAo24SLFliLtlQ8RyyVECLBJiTj6+Njgy3xfG1IiJnEjD568cfYfBg+Pe/zVZ1ANHR8NBD0KWLeTiKhDQV0CIBxrbH14qInIHt81duLjz9NNx2G/z2G2Au2eC888xTBgcNAhzWxii2oDXQIjZ38oab85olktygJtv3HbXH8bUiImUonsMSYqJoXieW3ek59stf334LkyfDnj3esdhYjD92hMf+CTqNWIpRAS1iY6VtuEluUJMHurVl02+Z1h9fG0oMw2xhlZxsdSQiAaO0HNa8Tix/63wWTdbbJH/l5JhrnZctKznepQuMGwf/eVXFs5xCBbSIjRXfcBMdGU5uvovt+46y6bdMHcHtT2lpMGUKfP89LF6sllUi5VRaDtudnkP39hG0b2iD/PW//8HUqbB3L1DYYeNgODzwAPTpAw4t15DS6VcqERsLmA035ZSenceSDSnM+mQbSzakkJ6dZ3VIZXO7YelSuOEG2LjR7AU7aZJ3U5GIlMm2OSw72yyc77nHUzwDGI3qw5tvQt++pxTPRflry96swMhfUq00Ay1iY7bfcFMBAdf/NSXFXA/5/ffesbAwczNRQQFERVkXm0iAKDOHWdW5bt06mDYNDhzwjtWqBWPGwMHvoV69U55SPH+NzjzOvDW77J2/pNppBlrExrq1r09yg5qkZeXab8NNBQVM/1e3GxYtMnfbFy+eW7Y0TyG7914VzyLlZKscduQIjB8P99/vKZ7zWsTAFVfAW29Bz56crsNG8fxVKzrCvvlL/EYz0CI2VifOydR+HVm1ZX/Abxg8+aPc5U372uOj3OJ27TJnnTdv9o6FhcEtt5htrVQ4i1RIWTks15+BfP45PPkkZGR4xxITMS5oDw/PPOPTi+evnPAY+yxFEcuogBaxuTpxzqDYMGjr5SgFBfB/O2HOEHOdM4WbiSKbwoQJ6rwhUgWW5rDMTJg5E1atKjneo4d5KMrKl8p1m+L5a3nTvvbKX2IJFdAi4hfd2tfnix0H7de/escOc9a5IMVTPBMRgdGuLYyfCxFKkyIBxzDMonnmTDh8GCj8pfhoDXjsMejatUK3K56/ircUtTx/iWX0ziAifmG75Sj5+eaa5vnzweWC1rHmePv25qzzl8tUPIsEovR0mD4dVq8uMWw0bwqPv2RuGKyg4vkrNfM4jRNjAnY5nfiG3h1ExG9ssxxl61azHd3OnZ4hh+EwNwgOGQLh4fCldeGJSCUYBnz4IcyebW4YLFK/PowdCzvXVKp4LlKUv0RABbSIhJITJ2DePFi4sGQv53POwTl+PDRvblloIlIFublmd40vzd9881rE4Pz1OPTvD/fdBzVqmAW0iI+ogBaR0PDjj+Za5927vWNOp3mQwqBBOqpXJBAZBqxYAWvWwDbvrLNRMxbmPA0XXGBhcBLMVECLSHDLzYWtW+D55eabLYWzU4ntzJ6wTZpYHKCIVEpamnma4IYN3j0MDgcMHAi1c1U8S7XSlIuIBK9vvzVnl3/d7SmeiY3F+GNHeOklFc8igcjtNo/bHjjQLJ4Bh8uAs86Cl18229OFa35Qqpf+DxORM0rPzmPVlv3sycyhSWKs/Xef5+TAP/9pvsmCd3bqwgth3DhY9W8t2RAJRL//DlOmmL8cFwkLw3nJ9XDXXeayrJMU5a/kvVls35Bi//wlAUEFtIiUKT07j3ErNpfof/rFjoNM7dfRnm9Ch9LNmam9ez1DjrAIc7lGnz7mR7wiEljcbliyBF58EfLyvOMtW5o/2x07lvq04vlrdOZx5q3ZZe/8JQFDBbSIlGnVlv1s33eURvHRREeGk5vvYkvaEZ74YCuNEqLtMyOdnQ3PPgs/bYC9Od7xSy7B+dhjUK+edbGJSOX9+qu5Afinn4DCPQy/5cGwYXD77RAVddqnFs9ftbIjaBQfzfZ9R3nn21TioiM0Ky2VpgJaRMq0JzMHl9sgOjKc635fyZKG13DwaB6fbTtAfEykPWakv/rK3Ex04IB3uUatWuZayJ49NessEohcLrPl5Lx53lNCASOxFkx9GpKTz3iL4vkrJzyG6MhwThS4WbIhBQNOmZWOq8aXI8FFBbSIlKlJYizhYQ5y813Euo6TlnWcfJebRgnRNK9dg9x8F9v3HWXVlv3+P2QgP988NfCDDzxDDpcBV1wBjzwCtWv7Nx4R8Y1ffjFnnbdu9Y5FRJgzzpEHylU8Q8n8tbxpX3LzXeQWuMjNd/GHBjVLzEqv2rKfa6vp5UjwCZldNJ9++inDhg0jOTmZ2NhYmjRpQv/+/fmp8COh4latWkWXLl2IiYmhXr163HnnnRw+fNiCqEUqLz07jyUbUpj1yTaWbEghPTvvzE8qRbf29UluUJO0rFyO5BaQnn2CyPAwGiXEcN3vK4mODMflNkjNPO7jV3AGq1ebvV+LFc8kJuK8cwLMmKHiWSQQ5efDvHnk/+1GDn3zA5mNIzl07AS5bZNh0SKzgHaUv3Qpnr9+OZBNWlYu8TGRxESFl5iVtiSHSUALmRnol156iUOHDjF69GjatWvH/v37mTlzJhdccAGrV6+mS5cuAKxevZpevXrRr18/pk6dSlpaGo888gibN29m7dq1hGnnfsgJuA4U+HbjX504J1P7dWTVlv00+TyGK5rXY9NvmbjdBrGu4+TmuwgPc9A4MaaaXs1JMjNh1iz4z3+8yzUArr7aXLKRmFil22vHvgSTgMpf27bBpEnkb99B2mEztySExbHgj734rUd/pjRoSp0K3rJ4/krNPE7jxBiycwt4fUNKiVlpTw7bXy2vzK+Uw/wjZAroF154gXonbSLq3r07LVq0YNasWSxfvhyAhx9+mI4dO7J06VJPsdywYUO6d+/OsmXLGDhwoN9jF+sEXAeKQqVt/KvKMos6cU4Gdz6L3G3xjO3dzvM9OZJbQFpWLskNanJes0SWbEipvjdqw4D//hdmzjSLaAqXa9SuDY89Bn/5S5W/hHbsSzAJmPx14gS88gq8+iq43Rw5nk9uvou9Z7XhUHIzfmrVj7QDOVXOX0XSs/PYlJJZ4vvSvE4s2bkFbAnwolM5zH9CZjr15HGC8OEAACAASURBVOIZICEhgTZt2rBnzx4AUlNT2bhxIzfddFOJmeZu3brRuHFjT5EtoaN4IdqmXlyJtXJ2dvLGP19+RFk0ozO8a0uaJMYwvGtLHujWlqdX7WDeml2898Ne5q3ZxbgVmyu9bOQUhw7Bww/Do496imcAZ4crYdkynxTPcNKO/eiIgPn7FilNQOSvzZthyBD417/A7SavRQy5YREsvWQAi257nMM1kny+xKJ4Duv7x0b8rbC4fn1DCnsKi06f5i8/Ug7zn5ApoEtz8OBBNm/eTMfC/pGbN28G8Px3cWeffbbncQkd1VmIVqeTN/75eplF0YxO+4bxDO58Fpt+y6yeN2rDgA8/hAED4PPPveP16sFzz8HEiWa3DR8pbcd+IPx9i5TG1vkrLw+2bYVbbzXb1BUy6tXmm+kv8vl5V3HcZZy6xMJHinLYQ1cnExcdwe70nKAoOpXD/CdklnCczDAMhg8fjtvt5qGHHgLg0KFDACQlJZ1yfVJSEt8WP/momISEhDK/VlZWFvHx8VWMWKxQ3YVodenWvj5f7Dh4yjKLbu3rV8vXO/mNennTvlVP2rm5MHo0rFvnGcprEYOzU0+4916I833DqdJ27AfC33dVKH8FL9vmr+++M08TjEo3D0gBiIkxf66P7+TiyzvxUVbJpSf+yl+BXnSGYg6zSsgW0GPGjGHFihUsWLCAdu3alXjMcZqesacbl+Dl70K0skrbKFR849/wri2rdU2fT9+oDQNWrjQ7bGw74h1v1AjjorYw+jHfBX6S4n/f/njjFqlOtstfrgJzA/Cbb4Jh4GhRmB86dyZj9Bg+yQwn+fNv2b5lPw90a8um3zI9G//8lb8CvehUDvOfkCygx44dy+zZs3n22WcZNmyYZ7x2Yduropno4jIyMkqdmQbO2OLuTDM8Yl8nd6Co7kK0MsraKFS08e/cau7P7LM36rQ080CUDRtKdtgYOBDuuQfees63gZ+ktB37dvv79jXlr+Blq/y1cSOsXQs/et9fnQfCYNw40q/swbh3fy6x8S25QU2/bXwLpqIzFHOYVUKugB4/fjzTpk1j5syZ3HvvvSUe69ChA2Cuhe7evXuJx3766Scuuugiv8Up9lG8A0V1F6KV4euOG5VR5TdqtxtSfoNBgyDHPIbb4TKgaVMYPx46darG6Es6ece+SCCzPH8dOwbPPgtvv13yl+KLL4axY6FePVZtSCn1uG1/5bBgKzqVw/wjpAroSZMmMWXKFKZMmcKYMWNOebxJkyacf/75LF68mPvvv9/TiePTTz8lNTWV/v37+ztkkTOqlvXHlVDpN+rffzfXQx7Z5imeCQvDefF1cNddEB1dPQGLSPX66ivzE6UDB4DCX4pr1TL7tffsCYXLIu2wBllFp1RUyBTQs2fPZuLEiVxzzTVcddVVfP31157HnE4nnQpnuGbMmEH37t0ZPHgww4cP9xykcuGFFzJgwACrwhc5LdtuFDoTtxveeANeeMHckV80O9WihTnrfPbZ1sYnIpVz5Ag88wy8916JYWezC2HO36FOyeNQgmkNsoSOkCmg3yv8QX7//fd5//33SzzWrFkzdu/eDcAVV1zB+++/z4QJE+jduzc1a9akX79+zJw5k/DwcH+HLXJGttsoVB7Hss0jeX/80TPkcGO2tLr9doiKsi42Eam8NWtg2jRIT/eOJSSYfdy7dfPMOhcXTGuQJXSETAG9evXqcl/bo0cPevToUX3BiPiQrTYKnYnLBYsWma3ptmd7x9u0wTl+PJzUEaeIjqYVsbnDh80OG598AhS2nPz1OHTvDmPGQGLiaZ8abGuQT6b8FZxCpoAWCWaWbxQqj507YfJk2LLFu1wjPBxuuw1uuQUiI0t9mo6mFbG5//4XZswocUqoEeuEWZPh8svLdYtgXYOs/BW8VECLSPUqKIAFC2D+fPPfKdxM1K6duda5TZsyn17iaFoLduiLyGlkZMD06fDZZyXHe/eGsyLKXTwHM+Wv4KUCWkSqz7Zt5qzzjh3eschInL1vg5tuMmegz8AOO/RFpBjDgI8+gqeeMjcMFqlXz2xNd/HFsHC6dfHZiPJX8FIBLSK+d+IEvPIKvPqq96heMDtrjB9vdtooJ+3QF7GRAwfgySfNQ1EK5bWIwfmnHnDffRAXZ2Fw9qP8FbxUQIuIbx0+DDfeCLt2AYVvrqku8yTBwYOhsL96eWmHvogNGIbZlu7ppyG72Abghg0xLkqG0WOti83GlL+ClwpoEfGNvDx46SX4+ivYleMZNurVhtnPwVmVW+8X7Dv0RWxv71544gkodn4CADfcACNHwlvPWRNXAFD+Cl4qoEWk6r7/3lzrnJLi7bAREwOjRkHu/1W6eC4SrDv0RWzN7TaP4H7uOe8poUDe2XVxjnoCzj3XwuACh/JXcFIBLSKV5yowe7+++ab5ES+FHTY6d4Zx46BRI20mEglEe/bAlCmwaZN3zOGAv/0NIzFHxbOEPBXQYpmi5vJ7MnNokhirj7UCzcaN5kaiHw95x2Jjcf5tNPTrV+qJYyLBJChzmNsNS5fCCy9Abq53vHlzcwPwOefol2IRVECLRYo3ly/aWFGV5vJB+UZmV8eOwbPPmh/tFi3XALjoIrOFVX1tjpHg58scZpv89dtvMGkS/PijZyivZSzOrjfA8OEQFeX/mERsSgW0WKJ4c/noyHBy812Vbi7v62JcypB+0Nw4tH8/ULhco2ZNePBB8/AEzTpLiPBVDrNF/nK5YPFicxPwiRPe8datMS5ubm4UFJESKtZPSsRHijeXv+73lVVqLl/8jaxNvbgSJz2Jjxw5Ym4S3LDRUzwDOM/qDMuWwTXXqHiWkOKrHGZ5/vq//4NbbjE3ChYVz+Hh5ozza69BfIJ/4hAJMCqgxRLFm8vHuo5Xqbm8L4txKcWaNeas88qV3rH4eJg2zTyJrE4d62ITsYivcphl+augAObPhyFDYMsWz3Bep4Zm4Tx8OERGVm8MIgFMSzjEEsWbyx/JLSAtK7fSzeV9WYxLMVlZZoeNjz/2DDlcBnTrBmPGQFKShcGJWMtXOcyS/LV9u7nWeccO71hkJAwfjhG2F9q2rb6vLRIkVECLJYo3l2/yeQzDu7as9MYZXxbjUujTT2HGDMjI8I4lJeEc8Xe44grr4hKxCV/lML/mrxMnzFnnV1811z0X6djR7LDRsqU6bIiUkwposUxRc/ncbfGcW7jppjK70X1ZjIe8jAyzcP7005LjvXqZGwXj462JS8SGTs5h6dl5LNmQYs/8lXUYbrwRdu3yDOW1qoGzzx3wt79BmFZ0ilSECmixjarsRi+tGJeKMMylGrNmmUs3gLwWMTiz4+Cxx+DSSy2OT8TebJu/8vJg7lxY/xXs8p4mSKdOGOc1MItqEakw/coptmH5bvRQdfCgedrYuHGe4hnAaN7UPGFQxbPIGdkyf/34ozm7vHAhGIVjMTHw8MNmUR1bw7rYRAKcCmixDXXT8DPDMDtrDBgA+w94xxs0ME8hO/scs8eziJyRrfLX8eMwezbcdpt5OAqFG4AvuMA8ZfCGG7RkQ6SKtIRDbEPdNPxo3z544glYvx4Ah6vwezxgAIwaBbGxsP1zCwMUCSy2yV+bNpk921NTvWOxsTgH3w/XXqt+7SI+ogJabEPdNPzA7YYVK+Af/4Ac73pI54kkmDsezjvPwuBEApfl+SsnxzwM5a23So5fdBGMHQv1lUdFfEkFtNhGIHfTqEz3EL9LTYUpU+Cbb7xjDgcMHgwjRphrI0WkUizNX19/DVOnmp8sFcprWwvn3x6A3r3LNetclMOS92axfUOKPXOYiI2ogBZbCcRuGlXZfe8fBrzxBvzzn5CbCxR22HDXgwkT4JxzLI5PJDj4PX8dPQrPPFPylFCArl0x2tWCa64p122K57DRmceZt2aXJ4fFVUPYIsFAuwhEqsiWu++LpKSYs1NPPeUpngkLw2jbCpYsUfEsEqjWrjU3AxYvnuPjzb0Ns2eDM7rctyqew2pFR9grh4nYlApokSqy1e77Im632bpq0CDIyPSOt2plnkKW/AeIirIsPBGppKws89TA0aPNFpSYnyhx1VWwbBlcfXWFNwoWz2E54TH2yGEiNhcyBfSePXu47777uOSSS4iLi8PhcLB69epTrrvssstwOByn/Bk0aJD/g5aAYJvd90V27YJbbjE3FJ04YbavCg+HO+4gfc4rLMmOY8veLJZsSCE9O8+aGEWk4j77zOyU8+GH3rGkJIwLzoPp0yEpqVK3LZ7Dljfta30OO42ikx6Vv8QOQmYN9M6dO1myZAnnnnsuV155JStPXjNWTJs2bVi4cGGJsTp16lR3iBKgLN99X6SgAP5vJ8wZAvn5nmFn1Fnw2gTSGzU77TpHe6zVFpFSZWTAzJnw3/+WHO/ZEx56CN6dU6XbF89hRfs4PDlsW5Vu7TNlrdNW/hIrhEwB3bVrVw4cMA+LWLFiRZkFdGxsLF26dPFXaBLgbNE9ZMcOmDQJXL97i+fISLjjDrj5ZoiIYNWGFO86x+yS6xwHF9vwpN34IjZhGPCf/5jFc7FTQvPaJ+G8fRx07eqTL1M8h6VmHqdxYozn5z7XJ1+h6kqs01b+EhsImQI6TKcuSTWyrHuI4YaXXoIFC8DlwtGi8CPXDh3MDhstW3ouLc86R83yiNhEejo8+SR88UXJ8b59MZo4fFY8FynKYXal/CV2o6qyFNu3bycxMZGIiAjatGnD1KlTyS/2kXigKlo/NuuTbVo/Fgy2bIF16+CVV8DlAsCZ6oL77oN//atE8QzlW+eo3fhiVyGTvwwD3nvPXOtcvHhu0MBsRTl+PEREWhefRZS/xG5CZga6vC699FIGDRrEH/7wB7Kzs1mxYgXjx49n06ZNvPPOO6U+JyEhocx7ZmVlER8fXx3hlpv9exVLuZ04AXPnwmuvQctirar++Edz1vms0meRylznWEi78UOP8peN5B43fwH+6ivPUF6LGJzn9YZRo6BGDQuDs5byl9iNCuiTTJkypcR/X3PNNdSvX59p06axbt06LrnkEosiq5riv5lHR4aTm+8qdf2Y2NyPP5prnX/7DcDssBEdDSNHmj1hy1iqVNY6xyKBshtfQkvQ5y/DgHfegTVrYNtR73jjxhgXt4X7/25dbDah/CV2owK6HIYOHcq0adNYv359qQX04cOHy3z+mWZ4/OHkXsXLm/bVb+aBJDcXtm6B55ebb7aFnLU7wD8eh8aNy3WbM61zLM8sjwQX5S+LpaXBlCmwcSO0jjXHHA6zh/vdd8OyZ62Nz0aUv8ROVECXg9vtBgJ7I6LtehVL+W3aZL7BRmd4i+fYWLj/fujXr8xZ54oqzyyPiL8FZf5yu82DT55/3nNKqMNlmEuwJkwwl2RJhSh/iT8FTAH9+++/07RpU0u+dlFP6EBubWebXsVSfjk55pvrsmUA3g4bf/4zjB1rbiqqBnbfjV8Vod7iyso8WhVBl79SUmDyZPj+e+9YWBjOSwfAnXeCM3T+n/S1YM5foBxmJwFTQLds2ZJu3boxfPhw+vTpQ3h4eIXv8dZbbwGwceNGAL744gvS09OpUaMGPXv2ZO3atUyfPp3rrruOZs2acezYMd59910WLFjAgAEDuPjii336mvzJFr2Kpfz+9z+YOhX27vUMOQ+GmzNT11xT4aN6RS2uwDd51ApBk7/cbnj9dXjxRXMzcJGWLc2f7Q4drItNbE85zF4CpoDetm0b8+fPZ+TIkYwYMYJhw4Zx++2306pVq3LfY8CAASX+e+LEiQA0a9aM3bt307BhQwDGjx9Peno6YWFhJCcn8/TTTzNq1CifvRarWNarWMovOxv+8Q9YsaLkeNeu8OijULeuNXEFgfIexBDMfJFHrRLw+WvXLnPWefNmz1Bey1iclw+G226DqCgLg5NAoBxmLwGzqLdVq1ZMmzaNlJQU5s2bx7Zt2+jQoQNXXXUVS5cupaCg4Iz3MAyj1D+7d+8GoHXr1nzwwQfs2bOH3NxccnJy+O6777j//vsDZqZGAti6dWYnjcLiOa9FDNSqZc5Ez56t4rmK1OLKN3lUKqigwOzLPmRIieKZtm0xul4MI0aoeJZyUQ6zl4CZgS4SFhZGt27dyMzMZNeuXWzYsIFdu3bx0EMP8corr3D11VdbHaLYRNFasT2ZOTRJjLXvR75HjsBTT8GHH5YYNpo0hLkvQVKSRYEFF7W48lIe9ZMdO8xZ523bvGMREXDHHTB0KLz+1GmfqrWucjLlMHsJqAJ606ZNvPLKK7zxxhu0atWKu+++myFDhhAXF8eiRYu49dZbSU1NtTpMsYHqPnjBZ8X555+bx/VmZHjHkpLgkUcgdaOKZx9SiyuT8qgfGG6YNw/mz/ecEprXIgZnTAtzrfMZlsxU91pXFeeBSTnMXgKmgP7Tn/7Erl27GDhwIKtWreL8888v8fiNN97IAw88YFF0YjfVefBCWcV5XHlvkpkJM2fCqlVA4Zvrr8ehRw946CFISICFG6sUp5SkFlfKo36xdSt8+SV8W+z46KgojA7t4PE5UI7lgNW51lUb0QKXcpi9BEwBfddddzFkyBBq1qx52msOHDjgx4jEzqrz4IWyivNrz/RkwzCL5pkzodgBFkaNaHj6CXOzoFSbYG9xdSbKo9XoxAl4+WX497+hZbR3/JxzzFnnL5aUq3iG6l3rqo1ogS3Uc5idBFQBLVJe1XnwQqWL8/R0mD4dVq8uOd63LzR2qHiWaqc8Wk0OZ5qbBH/9FSg8EMXphJEjYeDACh92VJ1rXbURTcQ3AqYLh0hFdGtfn+QGNUnLyvX5wQsVLs4NAz74wOywUbx4rl8fnnsOxo+HyMgqx2U36dl5LNmQwpa9WSzZkEJ6dp7VIYn4Vm4uPPMMrF/vKZ4BnEntYelSGDy4UieFFs9fvxzIrrb8pY1oZVMOk7IEzAy0SEVU58ELZZ6Ktu2kiw8cgCeeMNdEFsprEYOzU0+47z6oUaPK8diR1llK0Pv2W5gyBX7/HVrHmmOxsebP9bXXVqpwLlKda121Ea18lMPkTFRAS9CqroMXyirOc4suMgyzn/M//gHHjnmf3KgRxkVtYfRjPovHjrTOUoJWTg7885/w5pueIYfLgC5dYOxYKDyQq6qqa62rNqKVj3KYnIkKaJFKKLM4T0szDz/ZsME75nCYayHvvhvees6/wVpA6ywlKG3YYP5sp6V5x+LicN70APTpY/6cBwBtRDsz5TA5ExXQIr7idsNvu81C+bg3yeadUxfnvU/Cn/5kXWx+pnWWElSys+HZZ+Gdd0qOX3opPPoo1KtnTVxSbZTD5ExUQIv4wu+/m+shj2zzFs9hYTBkCEZ8dkgVz6B1lhJEvvrKnHUubO+X1yIG56FIGDPG7NseILPOUjHKYXImKqBFqsSAxYvhxRchL8+7mahlS7O7RseOsHC6tSFaQOssJeAdOQKzZ5sddIoxGjeEl+ZA7doWBSb+oBwmZ6ICWqSyfv3VbF+1cblnyOEGbr0Vbr8doqKsi80GtM5SAtbq1fDkk3DokHcsMREeeQTSvlHxHCKUw6QsKqBFKsrlgoULYd48aFasf3PbtjgnTIDkZOtiE5HKy8yEWbPgP//xDOW1iMHZtqu5ZCMhARZ+Y2GAImIXKqBFiknPzmPVlv3sycyhSWLsqR/Z/fILTJ4MW7cWDkRCRIQ54zx0aFAeiCIS9AwD/vtfmDnTLKKL1KmDcWE7eOgJ62KroKIclrw3i+0bUrTsQKSaqIAWKVS8cX7RphFP43xnmFk8v3gTFBR4nuOIT4RFs6F1awsjF5FKO3QIpk+Hzz8vOd6nD4weDStetCauStDhHyL+owJapFDxxvnRkeHk5rvYvu8o//tgHb1XvAJGqrd4joqCO+/EeeONEB5ubeAiUnGGAR99BE89ZW4YpHC5xrGaMG4cXHSRxQFWnA7/EPEfFdAihYo3zr/u95WsaNiTvuve4dytn0PNKG+HjXPOMTtsNG9uabwiUkkHDsC0abBuXYlho8VZMGEe1KhhUWBVo8M/RPxHBbSU6YxrgoNI8cb5tY8c4LYV40g4kEpU4et1EAYPPACDBpk9nkXE9krksIQYev+6kVpznodjx7wXNWpkzjpv+yxgi2fQ4R8i/qQCWkoo/maTEBPFV7vS2Z2ec+qa4CAsoru1r8+Xm/fwh3cX0cLxI5kHMoiODKdWTCScey7Oxx+Hpk2tDlNETuPkX/jPa5bI06t2sH3fURIOH2TYZ4vI3PcLMQkxuFvF4vz1uHly6D33QGysWUAHMB3+IeI/KqDF4+RNdMdOFHD8hIuOjWpRMzrSsyY4mNbTFX/DPfvALqa/NYe8X38jvH1N6sQ5qZVYk8jR98N112nWWcTGStsEHBsVTnbOCfr/+jU9V79FRF4uuS43R47nU6NWHLz8HHTqZHXolVZaxw0d/iHiHyqgxePkTXTb9x0lKyefI7kFDDv4Ecub9g2q9XRFb7i7Uw7y13Xv0OKn1RyKDKdRQgzusDCcV1wKY8eaH++KiK2Vtgn44Nad3Lfmdc499CtxHePJ3pyLGwc/XNaHiy6MDfji+XQdN4JlgkPEzlRAi8fJm+ieq9kNjkB2bj6xruNBt55u1Zb9sHEjT6xeTO0j6bjDw8jNd5FJJPVufAj69gWHw+owRaQciuev61Pe5fdUJ50/eoPIgnzcUWannP1JDXnp8pvofsOVsO11iyOuGnXcELGWCmjxKL4BJdZ1nJrOCKIiwjie7+ZIbgFpWbnBs57u2DEaz3mG+1d9SHRkWOHsVBY/NevIgVEPcvdfA6+FlUgoK8pfcXv30HHHRpLXpXDC7SY8Iow8NyyM6MJHA3rTqkmSmcO2WR1x1ajjhoi1VECLR/ENKEdyC0g/doILWyZxUcs6NFkfw/CuLYNjPd1XX8HUqXT4dQ/pDnAbUBAeyZt97uCjpp0Y3qKJ1RGKSAV1S65D3vwFnP/JMpx/qkmOy01MVDiJf2zP2kEjcCc04dZia4JzrQ64itRxQ8RaIVNA79mzh1mzZrFp0ya+//57jh07xueff85ll112yrWrVq3i8ccf54cffqBmzZpce+21zJgxg4SEBP8H7kd14pyeDShNPi9ZMOfujufcQP9Y8MgReOYZeO89AGrFRJKdV8D6s85h0R8HcaxmQvDMsIuEkp07qTN5MkM2/8yRmDDCDKgdH4tz+O3UHDGc3pGR9LY6Rh9Txw0Ra4VMAb1z506WLFnCueeey5VXXsnKlStLvW716tX06tWLfv36MXXqVNLS0njkkUfYvHkza9euJSzIOzHUiXMyuPNZ5G4LgoK5uDVrzIMT0tM9Q5FJiSRMnIxRvyOXHc7VjnWRQFNQAAsWwPz5UFBAZJiD2jWioFZreGc8tGljdYTVpviEhzpuiPhfyBTQXbt25cCBAwCsWLHitAX0ww8/TMeOHVm6dKmnWG7YsCHdu3dn2bJlDBw40G8xi6lKh7kcPgzffwfPveUZymsRg7PNpTBmDPGJiQyuprhFpBpt3w6TJsGOHd6xyEi480646SYID7cutmJKazXnqyK3aMJDRPwvZAro8swcp6amsnHjRmbPnl3i+m7dutG4cWOWL1+uAtrPSuvtWu7DXP77X5gxA2rnecdq18bo3A7GTKvewEWkerhd8OKL8Oqr4HYDhb8Ux7WG8eOhRQtr4yumrFZzmikWCWzBvR6hgjZv3gxAx44dT3ns7LPP9jwu/lO8VVObenElWjWdVkYGPPww/P3vkJnpHb/mGli2DOo3qP7AS5GenceSDSls2ZvFkg0ppGfnnflJIuL188/w5Zfwr395imeiojA6tjeXcdioeIaTWs1FR5Qvf9mYcpiIV8jMQJfHoUOHAEhKSjrlsaSkJL799ttSn3emzYVZWVnEx8dXPcAQdHJv6jIPczEMSEuF6683NwwWckRFw7NPwsUX+zHykjQTJXYVEPkrLw/mzoVFi6BltHf83HNh3DhY/botTwoNplZzZeWwOKuDE7GA/TKODThOc3jG6cal+pzcm/q0rZoOHIAHHoDvfyhRPHPttThffNvS4hmCbyZKxG9++AEGD4aFC8HtxuEyICbG/JTppZfgLPuuAQ6mVnPKYSIlaQa6mNq1awPemejiMjIySp2ZBjh8+HCZ9w329nfV6eTe1Kcc5mIYZlu6p5+G7GxoHWuON2pkzkx17mxd8MUE00yUBBfb5q/jx+GFF2DpUvPnvJCz7tnw7DjzZ9zmgqnVnHKYSEkqoIvp0KEDYK6F7t69e4nHfvrpJy66SKfT+VtZvanZuxeeeAK+/tpzvcNlwA03wMiREBtrYeQlBdNMlEi1++YbmDwZ0tK8YzVqwOjR8Ne/QoB8GhhMrebKzGGahJYQpAK6mCZNmnD++eezePFi7r//fk8njk8//ZTU1FT69+9vcYSh6ZTe1G43vPUWPPcc5OR4L2zaFOejj5vrIm0mmGaiRKrNsWPmz/Xy5UBhd41fj8NFF8HYsVA/8H5egqXVXJk5LMCPRRepjJAqoN96y+wFvHHjRgC++OIL0tPTqVGjBj179gRgxowZdO/encGDBzN8+HDPQSoXXnghAwYMsCx2KbRnD0yZAps2ecccDvjb32DECIiOPv1zLRRMM1Ei1WL9epg6FfZ7pzON6EiY9Hfo1StgZp2DVVk5LNCPRRepjJAqoE8ugCdOnAhAs2bN2L17NwBXXHEF77//PhMmTKB3797UrFmTfv36MXPmTMJt0pg/JLndsPtXGDQIcs10ndciBqdRHyZMgLPPtjjAMwuWmSgRnzpyBP7xDzj5cKvLLoPkOOgdbIdwBy7lMBGvkCqgjWIbUcrSo0cPevToUc3RSLn99pt54ljOTk/xTFgYRttWMGEeREVZG5+IVM6aNTBtGqSnA4W/FGc6zQ4b3brBazMsDlBEpHQhVUBLgHG5YPFis1XViRPeDhuto8vh9QAAF2FJREFUC08c+2alimeRQJSVBbNmwccflxg2mjaCeS9BYqJFgYmIlI8KaLGn7KNwyy2wZYtnyOEGhg83xyMjzQJaRALLp5/CjBnmiaFFkpLg0Ufh9/+peBaRgKACWuyloAD+/W9Ytw52HPOOJyfjnDAB2rat9K3Ts/NYtWU/yXuz2L4hRZv4RPwpI8MsnD/9FCjWYaNXL3joIahVCxb+z+Ig7U05TMQ+VECLfWzfbq513rHDu1wjMtKcdb7pJoio/P+uOkpbxCKGAZ98Yi7ZyMryDteIgX88CZdcYmFwgUM5TMReVECL9dwumDMHXn3VXPdM4YEoHTuaa51btqzylyhxDG12yWNotatcpJocPAhPPmluFiyuXz9oZKh4rgDlMBF7UQEt1vr5Z/jyS/jugHcsKgrnX+80ezsXHmZTVTqGVsSPDAPeew+efhqys4HCJRu5CTBuHFx4ISycbnGQgUU5TMReVECLNfLyYO5cWLQIWhY7/KRTJ3j8cTjLtzMqOkpbxE/27YMnnjAPRinGaNUcxs+F2Fhr4gpwymEi9qICWvzvhx/Mtc4pKUDhco2YGBg1Cq6/3mezzsUF0lHa2igkAcnthhUrzENRcnK8402amEuxNv9HxXMVBEoOU/6SUKECWvzn+HF48UV44w3zI95Czjod4dnHoVGjavvSgXKUtjYKScDKz4fXXoOcHHO5xu5cGDwY7r4boqPNAloqLRBymPKXhBIV0OIfmzbB5MmQmuodi42F+++Ha68Fh6PaQwiEY2i1UUgCltNpLr8aPhwjPg7mvwDnnGN1VEHF7jlM+UtCiQpoqV45OfDcc/DWW56hvBYxOBt2grFjob69Pn60mjYKSUA791xz4+CutSqeQ5Dyl4QS3y82FSny9ddwww0limdq1sQ494/w7LMqnkuhjUIS8Lp2hbBwq6MQCyh/SSjRDLT43tGj8MwzsPKko7a7djWP6/1ovl+WbASiQNkoJCJyMuUvCSUqoMW31q6FadPMAxQoXK6REQUPPwzdu6twPoNA2CgkIlIa5S8JJSqgxTeysmD2bPjwwxLDRpOGMPclSEqyKLDAY/eNQiIip6P8JaFCBbRU3WefwfTpkJHhHUtKgr//HfZsUPEsIiIiQUUFtFReRgbMnAn//a9nKK9FDM52l8ODD0J8PCzcYGGAIiIiIr6nAloqzjDgP/8xi+esLO943boYF7aDhyZbF5uIiIhINVMbO6mY9HR46CGzh3Px4vmvf4U334R69ayLTURERMQPNAMt5WTAe++ZhyQcPQoULtc4Hg/jxkGXLhbHJyIiIuIfKqDlzPbvh2++ga+Wlxg2WjaDCfPMI7lFREREQoSWcMjpGQa8/TYMGAAHDnrHGzeGuXOhQ0cVzyIiIhJyNAMtpTueA3ffDRs3AuBwxZiHoAweDCNGQEwM/LzK4iBFRERE/E8FtJTkdsOyZbBmLWw/6hl2uurCKxPgj3+0MDhTenYeq7bsJ3lvFts3pOikKxEJKMphIoFPSzjEKyUFhg+HWbPA5TLHwsLg5pthyRLbFM/jVmxm3ppd7Mk8zrw1uxi3YjPp2XlWhyYickbKYSLBQQX0SVavXo3D4Sj1z7Zt26wOr3q43bBoEQwaBN9/D4DDZUDLlvDqq3DvveC0x+zIqi372b7vKI3io6kVHUGj+Gi27zvKqi37rQ5NROSMlMNEgoOWcJzGjBkz6Nq1a4mx5s2bWxNMddq1CyZPhs2bvWPh4TivHAK33gpRUdbFVoo9mTm43AbRkeHkhMcQHRmOy22Qmnnc6tBERM5IOUwkOKiAPo22bdvSJZh7GxcUwMKF8PLLkJ/vHW/bFiZONP9pQ00SYwkPc5Cb72J5077k5rsID3PQODHG6tBERM5IOUwkOKiADkVHj8CwYVC4JCWvRQzO3/PN9c833wwR9v3folv7+nyx4yDb9x3F5TYID3OQ3KAm3drXtzo0EZEzUg4TCQ72rZQsduedd3L99ddTo0YNLr30UiZNmsR5551ndVhVk58PCxbAl1/CjmOeYaN2Asx41lzzbHN14pxM7deRVVv2k5p5nMaJMQG9g1278UVCSzDlMOUvCWUqoE8SHx/P/fffz2WXXUZSUhJbt25l+vTpXHzxxXzxxRdceOGFpzwnISGhzHtmZWURHx9fXSGXz9atMGkS7NwJrQsPP4mKgrvuAiM1IIrnInXinAzufJbVYVRZ0W787fuOMrpwN/4XOw4ytV9HvQmJ3wRE/goywZDDlL8k1KkLx0k6derE/7d377FR1vkexz8zBdrS0gvlUIp4CBqptuUiIBAMB0tEVxYtJcR1j2FLgmLOatjsegNhSRPwuhqOK2c9x2sgIriJUKvFLC0WjUIOZYkHaqlrZFUqFqGXkQpFmPmdPwqFTqftDM7Mc+n7lfQPnmco3z5DP8+3T3+XdevWqaioSDNnztTSpUu1e/dupaamauXKlVaXF7mffpLWr5dKSjqaZ51fYWPChI6l6X7zm44NUhB3zMYH4FTkF/o7nkCHYcSIEbrllltUXl4e8nxra2uvf7+vJzwxc+BAxwobX3118VhiohIX/Fb61a861niGZZiNDzuwbX7B1sgv9Hc00GEKBALyOOVJbXu79Je/dDxhNubi8cmTpT/+URo1KuYlMDaub8zGB+yLDOsd+YX+jgY6DI2NjaqsrHTGsnb790tr1khHjkg6v8LGMY/0u99JxcVxeerM2LjwMBsfsKfeMizV6uJsgvxCf0cDHeTuu+/WVVddpUmTJikzM1P19fV6+umndfr0aT355JNWl9ezU6c6xjr/9a9dDpsR/yL9+b+knJy4ldJlbFxb17FxTp84E4m+nmC5aTY+4Ca9ZVix1cXFCfkF9I4GOsi4ceO0ZcsWvfDCC/rxxx+VlZWlm266SatWrVJBQYHV5YW2d6+0dq109OjFY6mp0h/+ILV+Fpfm+dKw/Zu/UWf9gX49Ni7cp/BumI0POF1ws/iPYyf79fhe8gvoGw10kOXLl2v58uVWlxGetjbp+eelbdsknR+u8c/T0syZ0ooV0vDh0sa6mJcRHLYHz/p0+ie/Traf7bdj43gKDzhDqGZx8KAESQo9vrcfLDJBfgF9o4F2qt27O546f/995yGTPEha85j0i1/EdWm64LC9KitFn333g748/qNSEgf0y7FxzFAHnCFUs3ik5bSGJA3QUV979/G99VZXHHvkF9A3Gmin+eEH6bnnpIqKrsdnz5bGpki33Rb2p4rWLPPgsE1LHqjMwYM0NjtV+SPT++XYOGaoA7EXjQwL1SxK0rQxQ3VN9pBu43vbY/GF2Az5BfSNBtpJdu2SnnxSamqSdH7IRmuS9Oij0s03SxufCvtTRXOljFBhO2iAV7fkj+i3v+5jhjoQW9HKsJ6axWuyh5Bf5BfQIxpoJ2hpkf70J2nHji6HzZUjpZf/R7qMjQ6iOcaNsO2OGepAbEUrw8iv7sgvoG800HZmjFRVJT3zTEcTfcGwYR2TBL/ec1nNsxTdMW6EbWjMUAdiJ1oZRn6FRn4BvaOBtqumJumpp6TqakmXrLBx++3S738vpaVJG/dc9qeP9hg3whZAPEUzw8gvAJGigbaZEyfbVfvKFo3Z8N9KPXNKackDNdDrkUlJlv78tDRjRlT+HX5tCSDa4rn9NRkGwEo00DbS9M8j+r//eFSjPvu7Thup3SO1nTmnYYvuUsJob9SaZ+nn/doynjdJAM4QzYnJ4bjcDCO/AEQDDbSN7N1dpzGf7dfABK/SxqXr628G6j9n/bv+7Ze/VHH9m1H/9y7n15bxvkkCcAYrNt+INMPILwDR4rW6AFxUO2y0qibMltcjHcu+Uq/89gl9NupaWy1e3+UmmdT1Jgmg/3LC5hvkF4Bo4Qm0jYzKHKzXb5yvhskzdHxM7vlJMX5bbR/rhJskgPhzwuYb5BeAaKGBtpELk2L+t3GQ/N+32XL7WCfcJAHEnxMm9ZFfAKKFBtpGepsU09v2saEmxUiKyUQZJ9wkAcRfNCcmTx6dqb9/3UJ+AbAtGmibicakmB11jZKkr06civpEGTYdANCTaExMfnHXlzpz1q/EgQl6iPwCYFM00A4Xaub7gQafZKRrRwyJyWx4Nh0AEC3BGTYwwaOjrT9pdNbgbhP9yC8AdkED7XChJsWcPReQJCbKALC94AzzB4wkyR8w5BcA22IZO4cLNSlm4ACvBiZ4mSgDwPaCMyzB65EkJXg95BcA2+IJtMOFmhQzflS6pI4x0EyUAWBnwRkmSVkpg3TWb/RF8GpEAGATNNAO19OkGElMlAFge6Ey7MIqHOQXALuigXaBnibFMFEGgBOEyrCx2UMsqgYA+sYYaAAAACACNNAAAABABGigAQAAgAjQQCNuTrSd0ea936juO5827/1GJ9rOWF0SAISF/AJwKRpoxMWF7Xpf+uiwGs5vz7uqrJabEADbI78ABKOBDqGtrU3Lli1TTk6OkpOTNWXKFJWXl1tdlqN12a43aHteALAz8gtAMBroEIqLi7Vp0yatXbtWFRUVysvLU3FxsbZv3251aY4VastxtucF4ATkF4BgrAMdZPv27aqqqtLWrVtVXFwsSSosLNThw4f14IMPau7cuRZX6Eyhthxne14ATkB+AQjGE+gg27ZtU3p6uoqKijqPeTwelZSUqL6+XnV1dRZW51xz8rKVO2KIjvra9cX3bTrqa2d7XgCOQH4BCMYT6CC1tbXKy8uT19v1Z4vx48d3OY/I9LTlONvzArA78gtAMBroIE1NTRo7dmy340OHDu08HywjI6PXz+nz+ZSenh6dAh2spy3HAViH/AoP+QXgUgzhCMHj8VzWOQAAALgfT6CDZGVlhXzK3NzcLOnik+hLtba29vo5+3rCAwBWIb8AIHI8gQ6Sn5+vQ4cOKRAIdDl+8OBBSVJBQYEVZQEAAMAmaKCDFBcXq7W1Ve+++26X4xs3blRubi4TCAEAAPo5hnAEmTt3rgoLC7VkyRI1NTVpzJgx2rBhgz7++GO98847VpcHAAAAi/EEOojH41FZWZnuuusuPfbYY7rtttt04MABbd26VbfffrvV5UmSTrSd0ea936juO5827/1GJ9rOWF0SAISF/ALgBjTQIaSlpWn9+vVqbGxUe3u79u/fr/nz51tdlqSOm8+qslq99NFhNbSc1ksfHdaqslpuQgBsj/wC4BY00A5TWXdMnzee1Mj0JKUlDdDI9CR93nhSlXXHrC4NAHpFfgFwCxpoh2loOSV/wChpYIJOJSQraWCC/AGjb1tOW10aAPSK/ALgFjTQDjMqc7ASvB61n/Xr7SvvUPtZvxK8Hl2RmWx1aQDQK/ILgFuwCofDzMnL1of/OK7PG0/KHzBK8HqUO2KI5uRlW10aAPSK/ALgFjTQDjMsNVFr5xeosu6Yvm05rSsykzUnL1vDUhOtLg0AekV+AXALGmgHGpaaqF9P/VerywCAiJFfANyAMdA2x5qpAJyMDAPgRjTQNsaaqQCcjAwD4FY00DbGmqkAnIwMA+BWNNA2xpqpAJyMDAPgVjTQNsaaqQCcjAwD4FaswmFjrJkKwMnIMABu5THGGKuLcLuMjAxJUmtra8R/90TbGdZMBRzo53zf28nP/TrIMMB53JJfsUQDHQf8RwT6H7d837vl6wAQPr7v+8YYaAAAACACNNAAAABABGigAQAAgAjQQAMAAAARoIEGAAAAIkADDQAAAESAZeziwOv1yhij9PR0q0sBECc+n08ej0eBQMDqUn4W8gvof9ySX7HEE+g48Hq98ng8Yb/e5/PJ5/PFsCJciusdX/3lens8Hnm9zo9Y8sveuN7x1V+ut1vyK5Z4Am1DLGAeX1zv+OJ6uxvvb3xxveOL640L+PECAAAAiAANNAAAABABGmgAAAAgAjTQAAAAQARooAEAAIAI0EADAAAAEaCBBgAAACLAOtAAAABABHgCDQAAAESABhoAAACIAA00AAAAEAEaaJtoa2vTsmXLlJOTo+TkZE2ZMkXl5eVWl+UKO3fu1OLFi5Wbm6vBgwdr1KhRWrBggQ4ePNjttZWVlZo+fbqSk5M1fPhw3XfffWptbbWgavcoLS2Vx+PRxIkTu53jersHGRYb5Jf1yDCEZGALN998sxk6dKh55ZVXzM6dO82iRYuM1+s1FRUVVpfmeAsXLjSFhYXmxRdfNLt27TJvvfWWmTx5sklMTDR79uzpfF11dbUZMGCAWbhwoamsrDQbNmwwI0aMMDNmzDB+v9/Cr8C5amtrTVJSksnOzjYTJkzoco7r7S5kWGyQX9Yiw9ATGmgbqKioMJLM1q1bO48FAgFz4403mmuvvdbCytzh2LFj3Y61tLSYjIwMs2DBgs5jN9xwg5k4cWKX4NuxY4eRZLZs2RKXWt3E7/ebadOmmQceeMDMmjWr282H6+0eZFjskF/WIcPQG4Zw2MC2bduUnp6uoqKizmMej0clJSWqr69XXV2dhdU53/Dhw7sdy8jI0DXXXKOGhgZJ0rfffquamhotWrRIXu/Fb4s5c+boiiuu0Ntvvx23et1i3bp1amho0OOPP97tHNfbXciw2CG/rEOGoTc00DZQW1urvLy8Lt+EkjR+/PjO84iu48ePq7a2VgUFBZIuXuMLf77UuHHjeA8idPjwYa1evVrr169XWlpat/Ncb3chw+KL/Io9Mgx9oYG2gaamJg0dOrTb8QvHmpqa4l2SqxljtHTpUgUCAT300EOSLl7jnt4H3oPwGWN077336tZbb9X8+fNDvobr7S5kWPyQX7FHhiEcA6wuAB08Hs9lnUPkHn74YZWVlen111/Xdddd1+VcT9ea9yB8L7/8svbt2xfWr+253u5BhsUH+RV7ZBjCQQNtA1lZWSF/Wm1ubpYU+idcXJ6VK1fqueee0/PPP6/Fixd3Hs/KypIU+klZc3Mz70GYTpw4oUceeUQrVqxQSkpK53JO586dk9/vV2trq5KSkrjeLkOGxQf5FXtkGMLFEA4byM/P16FDhxQIBLocv7DOZ6gxVojc6tWr9cQTT+iZZ57RsmXLupzLz8+XFHqs5sGDB3kPwtTQ0CCfz6cVK1YoMzOz8+OTTz5RbW2tMjMzVVpayvV2GTIs9siv+CDDEDZrFwGBMca89957RpIpKyvrcnzmzJkmNzfXoqrcpbS01Egya9as6fE1U6ZMMZMmTeqyJFFVVZWRZDZv3hyPMh3v5MmTprq6utvHhAkTzNVXX22qq6vNl19+aYzhersJGRZb5Ff8kGEIFw20DQQCAVNYWGiysrLMq6++aj744ANTUlJiPB6PKS8vt7o8x3v22WeNJDNv3jyzZ8+eLh/79+/vfN3OnTtNQkKCufPOO01VVZXZuHGjycnJMdOmTTPnzp2z8CtwvlBrqHK93YMMix3yyx7IMASjgbYJn89n7r//fpOdnW0SExPN9ddfb7Zt22Z1Wa4wa9YsIynkx+jRo7u89v333zdTp041iYmJZtiwYeaee+4xzc3N1hTuIqFuPsZwvd2EDIsN8sseyDAE8xhjTDyHjAAAAABOxiRCAAAAIAI00AAAAEAEaKABAACACNBAAwAAABGggQYAAAAiQAMNAAAARIAGGgAAAIgADTQAAAAQARpoIMqOHj2q7OxsvfHGG53HlixZosLCQvn9fgsrA4C+kWFA3wZYXQDgNiNHjtSmTZu0YMECTZ48WTU1NaqoqNCnn36qhIQEq8sDgF6RYUDf2MobiJHS0lK9+eabamxsVFlZmWbPnm11SQAQNjIM6BkNNBAjjY2NGj16tKZPn64PP/zQ6nIAICJkGNAzxkADMRAIBFRSUqJ58+bpiy++0GuvvWZ1SQAQNjIM6B1joIEYWLt2rY4cOaKamhrV1NTojjvu0NSpU1VQUGB1aQDQJzIM6B1DOIAoq66uVlFRkfbs2aP8/HxJHTejTZs2ad++fUpJSbG4QgDoGRkG9I0GGgAAAIgAY6ABAACACNBAAwAAABGggQYAAAAi8P87rRZAhmmI8wAAAABJRU5ErkJggg==\">\n"
   ]
  },
  {
   "cell_type": "markdown",
   "metadata": {
    "slideshow": {
     "slide_type": "notes"
    }
   },
   "source": [
    "\n",
    "Let's assume we have met all the relevant assumptions and want to train a linear regression model.\n",
    "\n",
    "To naively learn $b$ and $w$, we could try this approach manually by hand:\n",
    "\n",
    "1) Gather our training data - for each x, what is the true y value?\n",
    "\n",
    "2) Plot it and draw a line through it\n",
    "\n",
    "3) Calculate the weight (slope) and bias (intercept) of the line\n",
    "\n",
    "4) For each x value, find the difference between the true y (the dot) and the predicted y (the line). Square it. Add all of them together.\n",
    "\n",
    "5) Repeat 2-4 as many times as you can bear.\n",
    "\n",
    "6) Select the line which has the lowest value from step 4.\n",
    "\n",
    "7) The weight/bias of that line are the parameters of the best linear regression model.\n",
    "\n",
    "Fortunately, there are mathematically and computationally efficient methods for finding the parameters that best minimise the error.\n",
    "\n",
    "Let's look at these in Python."
   ]
  },
  {
   "cell_type": "markdown",
   "metadata": {
    "slideshow": {
     "slide_type": "slide"
    }
   },
   "source": [
    "## Linear regression: sklearn\n",
    "\n",
    "`sklearn.linear_model.LinearRegression`\n",
    "\n",
    "* Implements linear regression\n",
    "* Takes care of learning $w$ and $b$ with `.fit()` method\n",
    "* $x$ can be as many features as you like\n",
    "* Easy to get model predictions"
   ]
  },
  {
   "cell_type": "markdown",
   "metadata": {
    "slideshow": {
     "slide_type": "notes"
    }
   },
   "source": [
    "From here on, we will look at using linear regression in Python. We won't concern ourselves with the behind-the-scenes details of how the model is learned. Instead, we will focus on getting data into the model and predictions out of it."
   ]
  },
  {
   "cell_type": "markdown",
   "metadata": {
    "slideshow": {
     "slide_type": "slide"
    }
   },
   "source": [
    "## Linear regression: sklearn"
   ]
  },
  {
   "cell_type": "code",
   "execution_count": 18,
   "metadata": {
    "slideshow": {
     "slide_type": "slide"
    }
   },
   "outputs": [
    {
     "data": {
      "image/png": "[encoded data removed]",
      "text/plain": [
       "<Figure size 640x480 with 1 Axes>"
      ]
     },
     "metadata": {},
     "output_type": "display_data"
    }
   ],
   "source": [
    "import seaborn as sns\n",
    "import numpy as np\n",
    "\n",
    "# To make sure random results are the same each time:\n",
    "np.random.seed(5)\n",
    "\n",
    "# Generate monotonic increasing values for x, 1 to 100\n",
    "x = np.linspace(1,100, 100)\n",
    "# Add a little random noise to each x, to get a y value\n",
    "y = [i + np.random.normal(loc=50, scale=10) for i in x]\n",
    "\n",
    "sns.scatterplot(x=x, y=y);"
   ]
  },
  {
   "cell_type": "markdown",
   "metadata": {
    "slideshow": {
     "slide_type": "notes"
    }
   },
   "source": [
    "First, let's generate some data where there is a linear relation between x and y, but with a little bit of noise added to each.\n",
    "\n",
    "We'll stick with the simple univariate model, where x is just a single variable each time. It's easier to visualise this!"
   ]
  },
  {
   "cell_type": "markdown",
   "metadata": {
    "slideshow": {
     "slide_type": "slide"
    }
   },
   "source": [
    "## Linear regression: sklearn"
   ]
  },
  {
   "cell_type": "code",
   "execution_count": 20,
   "metadata": {
    "slideshow": {
     "slide_type": "slide"
    }
   },
   "outputs": [
    {
     "data": {
      "text/plain": [
       "LinearRegression()"
      ]
     },
     "execution_count": 20,
     "metadata": {},
     "output_type": "execute_result"
    }
   ],
   "source": [
    "from sklearn.linear_model import LinearRegression\n",
    "\n",
    "model = LinearRegression()\n",
    "\n",
    "# When using a single feature in sklearn, it must be reshaped\n",
    "# from the form [1,2,3,4,5] to [[1],[2],[3],[4],[5]] x.reshape(-1, 1) does that \n",
    "x = x.reshape(-1, 1)\n",
    "\n",
    "model.fit(x, y)\n",
    "\n",
    "\n",
    "\n"
   ]
  },
  {
   "cell_type": "code",
   "execution_count": 22,
   "metadata": {
    "slideshow": {
     "slide_type": "slide"
    }
   },
   "outputs": [
    {
     "name": "stdout",
     "output_type": "stream",
     "text": [
      "Weight for single feature x: [1.00267182]\n",
      "\n",
      "Bias term for model: 50.780539516535725\n",
      "\n",
      "R2 score for model: 0.9062438135842042\n",
      "\n"
     ]
    }
   ],
   "source": [
    "print(f\"Weight for single feature x: {model.coef_}\\n\") # this is our w\n",
    "print(f\"Bias term for model: {model.intercept_}\\n\") # this is our b\n",
    "print(f\"R2 score for model: {model.score(x, y)}\\n\") # this is our evaluation metric"
   ]
  },
  {
   "cell_type": "markdown",
   "metadata": {
    "slideshow": {
     "slide_type": "notes"
    }
   },
   "source": [
    "We can instantiate a linear regression model with one line, then fit the data to it.\n",
    "\n",
    "This will automatically find the best model parameters - the weight for x and the bias.\n",
    "\n",
    "Note: Because we only have a single feature, we need to reshape the array for sklearn. This turns it from [1,2,3,4] into [[1],[2],[3],[4]]\n",
    "\n",
    "Once the model has been trained, we can view the parameters it learned from the data.\n",
    "\n",
    "Note: sklearn refers to weight/bias as coef_/intercept_ - coef_ is just short for coefficient and is the terminology from linear algebra.\n",
    "\n",
    "We can see that for every unit change in the value of x, we can expect y to increase by approximately 1.\n",
    "\n",
    "We can also get the R2 score of the model, by using the `.score()` method and passing back in the original data. This is a pretty high R2 score, which probably isn't surprising given how the data looked when we plotted it."
   ]
  },
  {
   "cell_type": "markdown",
   "metadata": {
    "slideshow": {
     "slide_type": "slide"
    }
   },
   "source": [
    "## Linear regression: sklearn"
   ]
  },
  {
   "cell_type": "markdown",
   "metadata": {},
   "source": [
    "$y$ = $w$$x$+$b$\n",
    "\n",
    "We have found that for our model, this equation is\n",
    "\n",
    "y = 1.00 $x$ + 50.78"
   ]
  },
  {
   "cell_type": "code",
   "execution_count": 23,
   "metadata": {
    "slideshow": {
     "slide_type": "slide"
    }
   },
   "outputs": [
    {
     "data": {
      "text/plain": [
       "array([ 49.7778677 , 154.055737  , 201.18131255, 251.31490356])"
      ]
     },
     "execution_count": 23,
     "metadata": {},
     "output_type": "execute_result"
    }
   ],
   "source": [
    "unseen_x = [[-1], [103], [150], [200]]\n",
    "\n",
    "model.predict(unseen_x)"
   ]
  },
  {
   "cell_type": "markdown",
   "metadata": {
    "slideshow": {
     "slide_type": "notes"
    }
   },
   "source": [
    "Once a model has been trained using `.fit()`, we can get predictions for new values of x using the `.predict()` method.\n",
    "\n",
    "Here, the model has been given some input it was never trained on (it was only trained on values of x between 1 and 100).\n",
    "\n",
    "You can see that each prediction is just that x value, multiplied by ~1.003 and then ~50.8 added on."
   ]
  },
  {
   "cell_type": "markdown",
   "metadata": {
    "slideshow": {
     "slide_type": "slide"
    }
   },
   "source": [
    "## Linear regression: summary\n",
    "\n",
    "* Models a linear relationship between $x$ and $y$\n",
    "* Simplest linear regression: $y = wx + b$\n",
    "* Learn weight of $x$ and bias term from data"
   ]
  },
  {
   "cell_type": "markdown",
   "metadata": {
    "slideshow": {
     "slide_type": "notes"
    }
   },
   "source": [
    "In this learning unit we looked at the basics of the linear regression model, used to model approximately linear relationships between variables. We specifically considered the univariate case of regression, where a single input feature is used to predict a single output variable.\n",
    "\n",
    "In addition to looking at the form of the model and how it learns from data, some of the main assumptions of the model were outlined. Much of this focuses on the relationship between the input features and the variable you want to predict.\n",
    "\n",
    "In the practical, we'll look at working with simple linear regression in python."
   ]
  },
  {
   "cell_type": "markdown",
   "metadata": {
    "slideshow": {
     "slide_type": "slide"
    }
   },
   "source": [
    "## Jupyter Exercise\n",
    "\n",
    "Open file `intro-linear-regression-practical.ipynb`"
   ]
  }
 ],
 "metadata": {
  "kernelspec": {
   "display_name": "Python 3",
   "language": "python",
   "name": "python3"
  },
  "language_info": {
   "codemirror_mode": {
    "name": "ipython",
    "version": 3
   },
   "file_extension": ".py",
   "mimetype": "text/x-python",
   "name": "python",
   "nbconvert_exporter": "python",
   "pygments_lexer": "ipython3",
   "version": "3.7.3"
  }
 },
 "nbformat": 4,
 "nbformat_minor": 2
}
